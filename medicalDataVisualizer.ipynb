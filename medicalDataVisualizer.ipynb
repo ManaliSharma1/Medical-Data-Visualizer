{
 "cells": [
  {
   "cell_type": "code",
   "execution_count": null,
   "id": "fedb7fb2-dfc7-4aca-8d0e-0a492c0c3876",
   "metadata": {},
   "outputs": [],
   "source": [
    "import pandas as pd\n",
    "import seaborn as sns\n",
    "import matplotlib.pyplot as plt\n",
    "import numpy as np\n",
    "\n",
    "\n",
    "df = pd.read_csv('medical_examination.csv')\n",
    "\n",
    "\n",
    "df['overweight'] = (df['weight'] / ((df['height'] / 100) ** 2)) > 25\n",
    "df['overweight'] = df['overweight'].astype(int)  # Convert boolean to int (0/1)\n",
    "\n",
    "\n",
    "\n",
    "df['cholesterol'] = df['cholesterol'].apply(lambda x: 0 if x == 1 else 1)\n",
    "df['gluc'] = df['gluc'].apply(lambda x: 0 if x == 1 else 1)\n",
    "\n",
    "\n",
    "def draw_cat_plot():\n",
    "\n",
    "    df_cat = pd.melt(df, id_vars=['cardio'], value_vars=['cholesterol', 'gluc', 'smoke', 'alco', 'active', 'overweight'])\n",
    "    df_cat.rename(columns={'variable': 'variable', 'value': 'value'}, inplace=True)\n",
    "\n",
    "    df_cat = df_cat.groupby(['cardio', 'variable', 'value']).size().reset_index(name='count')\n",
    "\n",
    "    fig = sns.catplot(data=df_cat, x='variable', y='count', hue='value', col='cardio', kind='bar')\n",
    "\n",
    "    fig.set_axis_labels(\"variable\", \"total\")  \n",
    "\n",
    "    fig = fig.fig\n",
    "\n",
    "    fig.savefig('catplot.png')\n",
    "    return fig\n",
    "\n",
    "def draw_heat_map():\n",
    "    df_heat = df[(df['ap_lo'] <= df['ap_hi']) & \n",
    "                  (df['height'] >= df['height'].quantile(0.025)) & \n",
    "                  (df['height'] <= df['height'].quantile(0.975)) & \n",
    "                  (df['weight'] >= df['weight'].quantile(0.025)) & \n",
    "                  (df['weight'] <= df['weight'].quantile(0.975))]\n",
    "\n",
    "    corr = df_heat.corr()\n",
    "\n",
    "    mask = np.triu(np.ones_like(corr, dtype=bool))\n",
    "\n",
    "    fig, ax = plt.subplots(figsize=(10, 8))\n",
    "\n",
    "    sns.heatmap(corr, mask=mask, annot=True, fmt=\".1f\", cmap='coolwarm', square=True, cbar_kws={\"shrink\": .8}, ax=ax)\n",
    "\n",
    "    fig.savefig('heatmap.png')\n",
    "    return fig"
   ]
  }
 ],
 "metadata": {
  "kernelspec": {
   "display_name": "Python 3 (ipykernel)",
   "language": "python",
   "name": "python3"
  },
  "language_info": {
   "codemirror_mode": {
    "name": "ipython",
    "version": 3
   },
   "file_extension": ".py",
   "mimetype": "text/x-python",
   "name": "python",
   "nbconvert_exporter": "python",
   "pygments_lexer": "ipython3",
   "version": "3.11.7"
  }
 },
 "nbformat": 4,
 "nbformat_minor": 5
}
